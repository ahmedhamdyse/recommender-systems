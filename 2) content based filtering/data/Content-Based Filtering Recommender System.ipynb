{
 "cells": [
  {
   "cell_type": "markdown",
   "metadata": {},
   "source": [
    "<font size=\"5\" color=\"blue\"><Strong>Content Based Filtering: </Strong></font>Recommend items based on the meta data (item/user features)\n",
    "<ol>\n",
    "    <li><font size=\"3\" color=\"green\">User based</font>: Recommend items based on similarity between users (two users have the same features such as married, country of birth, etc.), so will be similar users.</li>\n",
    "    <li><font size=\"3\" color=\"green\">Item based</font>: Recommend products based on similarity between items (Two items have the same features such as price, category, etc.) , so similar items.</li>\n",
    "</ol>"
   ]
  },
  {
   "cell_type": "markdown",
   "metadata": {},
   "source": [
    "<font size=\"5\" color=\"green\">Item-Based</font><font size=\"4\" color=\"black\">: Recommend products based on similarity between items (Two items have the same features such as price, category, etc.) , so similar items.</font>\n",
    "\n",
    "<font size=\"3\" color=\"blue\">Example</font>: If the current user likes item A and item A is similar to item B (item A has the same features of item B). so will recommend product B to the current user."
   ]
  },
  {
   "cell_type": "markdown",
   "metadata": {},
   "source": [
    "<font size=\"5\" color=\"blue\">Problem statement:</font> Develop a recommender help car dealers system for recommending a new car a specific user based on the features that the user like.\n",
    "\n",
    "<font size=\"3\" color=\"blue\">Approach:</font> Using content based filtering approache (item based)\n",
    "\n",
    "*mtcars dataset source:* \n",
    "Henderson and Velleman (1981), Building multiple regression models interactively. Biometrics, 37, 391–411."
   ]
  },
  {
   "cell_type": "markdown",
   "metadata": {},
   "source": [
    "<font size=\"4\" color=\"blue\"><Strong>Import libraries</Strong></font> "
   ]
  },
  {
   "cell_type": "code",
   "execution_count": 1,
   "metadata": {},
   "outputs": [],
   "source": [
    "import pandas as pd\n",
    "import numpy as np\n",
    "import matplotlib.pyplot as plt"
   ]
  },
  {
   "cell_type": "markdown",
   "metadata": {},
   "source": [
    "<font size=\"4\" color=\"blue\"><Strong>Reading the data</Strong></font> "
   ]
  },
  {
   "cell_type": "code",
   "execution_count": null,
   "metadata": {},
   "outputs": [],
   "source": [
    "cars = pd.read_csv('data/mtcars.csv')\n",
    "cars.columns = ['car_names', 'mpg', 'cyl', 'disp', 'hp', 'drat', 'wt', 'qsec', 'vs', 'am', 'gear', 'carb']\n",
    "cars.head()"
   ]
  }
 ],
 "metadata": {
  "kernelspec": {
   "display_name": "Python 3",
   "language": "python",
   "name": "python3"
  },
  "language_info": {
   "codemirror_mode": {
    "name": "ipython",
    "version": 3
   },
   "file_extension": ".py",
   "mimetype": "text/x-python",
   "name": "python",
   "nbconvert_exporter": "python",
   "pygments_lexer": "ipython3",
   "version": "3.7.1"
  }
 },
 "nbformat": 4,
 "nbformat_minor": 2
}
